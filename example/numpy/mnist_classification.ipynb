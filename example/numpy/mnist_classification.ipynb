{
 "cells": [
  {
   "cell_type": "code",
   "execution_count": 1,
   "metadata": {},
   "outputs": [],
   "source": [
    "import numpy as np\n",
    "import torch"
   ]
  },
  {
   "cell_type": "code",
   "execution_count": 1,
   "metadata": {},
   "outputs": [],
   "source": [
    "def convert2one_hot(id, class_num):\n",
    "    result = np.zeros(1,class_num)\n",
    "    result[0, id] = 1\n",
    "    return result\n",
    "\n",
    "def softmax(x):\n",
    "    result = np.exp(x) / np.sum(x,axis=-1)\n",
    "    return result"
   ]
  },
  {
   "cell_type": "code",
   "execution_count": null,
   "metadata": {},
   "outputs": [],
   "source": [
    "train_data = torch.load('../data/minist/train_img.pt').numpy()\n",
    "train_target = torch.load('../data/minist/train_targets.pt').numpy()\n",
    "test_data = torch.load('../data/minist/test_img.pt').numpy()\n",
    "test_target = torch.load('../data/minist/test_targets.pt').numpy()"
   ]
  },
  {
   "cell_type": "code",
   "execution_count": null,
   "metadata": {},
   "outputs": [],
   "source": [
    "epochs = 100\n",
    "lr = 0.001\n",
    "batch_size = 32"
   ]
  },
  {
   "cell_type": "code",
   "execution_count": null,
   "metadata": {},
   "outputs": [],
   "source": [
    "W1 = np.random.randn(28*28, 28*28*2)\n",
    "B1 = np.random.randn(1, 28*28*2)\n",
    "W2 = np.random.randn(28*28*2, 28*28*2)\n",
    "B2 = np.random.randn(1, 28*28*2)\n",
    "W3 = np.random.randn(28*28*2,10)\n",
    "B3 = np.random.randn(1, 10)\n",
    "\n",
    "for epoch in range(epochs):\n",
    "    for idx in range(train_data.shape[0]):\n",
    "        data = train_data[idx]\n",
    "        target = train_target[idx]\n",
    "        traget_one_hot = convert2one_hot(target)\n",
    "\n",
    "        x1 = np.matmul(data, W1) + B1\n",
    "        x2 = np.matmul(x1, W2) + B2\n",
    "        y1 = np.matmul(x2, W3) + B3\n",
    "        y2 = softmax(y1)\n",
    "        \n",
    "        log_y = np.sum(-np.log(y2) * traget_one_hot, axis=-1) # [N,1]\n",
    "        a = y2 - traget_one_hot # [N, 10]\n",
    "\n",
    "        grad_b3 = log_y * a\n",
    "        grad_w3 = log_y * a * x2.T\n",
    "        grad_b2 = np.matmul(log_y * a, W3.T)\n",
    "        grad_w2 = log_y * a * np.matmul(x1.T, W3.T)\n",
    "\n",
    "        \n",
    "        B3 = B3 + lr * np.sum(log_y * a, axis=0) / batch_size\n",
    "        W3 = W3 + lr * np.sum(np.matmul(x2.T, log_y * a), axis=0) # [28*28*2, 10]\n",
    "        B2 = \n",
    "        W2 = \n",
    "        B1 = \n",
    "        W1 = "
   ]
  }
 ],
 "metadata": {
  "kernelspec": {
   "display_name": "deeplearning",
   "language": "python",
   "name": "python3"
  },
  "language_info": {
   "codemirror_mode": {
    "name": "ipython",
    "version": 3
   },
   "file_extension": ".py",
   "mimetype": "text/x-python",
   "name": "python",
   "nbconvert_exporter": "python",
   "pygments_lexer": "ipython3",
   "version": "3.10.13"
  },
  "vscode": {
   "interpreter": {
    "hash": "5ff24282874dbb66afe956d1c4d677131165dc81a404f1ffda84b48100e8b7bb"
   }
  }
 },
 "nbformat": 4,
 "nbformat_minor": 2
}
