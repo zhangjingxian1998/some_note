{
 "cells": [
  {
   "cell_type": "code",
   "execution_count": null,
   "metadata": {},
   "outputs": [],
   "source": [
    "import numpy as np\n",
    "import torch"
   ]
  },
  {
   "cell_type": "code",
   "execution_count": 1,
   "metadata": {},
   "outputs": [],
   "source": [
    "def convert2one_hot(data, class_num):\n",
    "    result = np.zeros(data.shape[0],class_num)\n",
    "    for i, class_id in enumerate(data):\n",
    "        result[i, class_id] = 1\n",
    "    return result\n",
    "\n",
    "def softmax(x):\n",
    "    result = np.exp(x) / np.sum(x,axis=-1)\n",
    "    return result"
   ]
  },
  {
   "cell_type": "code",
   "execution_count": null,
   "metadata": {},
   "outputs": [],
   "source": [
    "train_data = torch.load('../data/minist/train_img.pt').numpy()\n",
    "train_target = torch.load('../data/minist/train_targets.pt').numpy()\n",
    "test_data = torch.load('../data/minist/test_img.pt').numpy()\n",
    "test_target = torch.load('../data/minist/test_targets.pt').numpy()\n"
   ]
  }
 ],
 "metadata": {
  "kernelspec": {
   "display_name": "deeplearning",
   "language": "python",
   "name": "python3"
  },
  "language_info": {
   "codemirror_mode": {
    "name": "ipython",
    "version": 3
   },
   "file_extension": ".py",
   "mimetype": "text/x-python",
   "name": "python",
   "nbconvert_exporter": "python",
   "pygments_lexer": "ipython3",
   "version": "3.10.13"
  }
 },
 "nbformat": 4,
 "nbformat_minor": 2
}
