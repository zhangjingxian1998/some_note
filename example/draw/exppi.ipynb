{
 "cells": [
  {
   "cell_type": "code",
   "execution_count": null,
   "metadata": {},
   "outputs": [],
   "source": [
    "import numpy as np\n",
    "import matplotlib.pyplot as plt\n",
    "from itertools import count\n",
    "from IPython.display import display"
   ]
  },
  {
   "cell_type": "code",
   "execution_count": null,
   "metadata": {},
   "outputs": [],
   "source": [
    "x_track = np.zeros((1, 3))\n",
    "x_track_s = np.array([.0,.0,.0])\n",
    "theta = 0\n",
    "def gen_path(): # 生成螺旋\n",
    "    global x_track_s,x_track,theta\n",
    "    theta += 10*np.pi/180\n",
    "    x = 6*np.sin(theta)\n",
    "    y = 6*np.cos(theta)\n",
    "    x_track_s[:-1] =[x,y]\n",
    "    x_track_s[-1] += 0.1\n",
    "    x_track = np.append(x_track, [x_track_s],axis=0)\n",
    "    return x_track\n",
    "fig=plt.figure()\n",
    "ax = fig.add_subplot(projection='3d')\n",
    "ax.set_xlabel('x')\n",
    "ax.set_ylabel('y')\n",
    "ax.set_title('3d_mobile_obs')\n",
    "ax.set_xlim(-1,1)\n",
    "ax.set_ylim(-1,1)\n",
    "display(fig, display_id='plot')\n",
    "\n",
    "num = 20\n",
    "for t in count():\n",
    "    if t == 1000:\n",
    "        break\n",
    "    # plt.cla() # 此命令是每次清空画布，所以就不会有前序的效果\n",
    "    ax.clear()\n",
    "    x_track = gen_path()\n",
    "    ax.plot3D(x_track[1:, 0], x_track[1:, 1], x_track[1:, 2], 'blue')\n",
    "    ax.plot3D(np.zeros(t+1)-num, x_track[1:, 1], x_track[1:, 2], 'red')\n",
    "    ax.plot3D(x_track[1:, 0], np.zeros(t+1)+num, x_track[1:, 2], 'green')\n",
    "\n",
    "    ax.plot3D(np.concatenate([x_track[-1:, 0],np.zeros(1)-num]), \n",
    "              np.concatenate([x_track[-1:, 1],x_track[-1:, 1]]),\n",
    "              np.concatenate([x_track[-1:, 2],x_track[-1:, 2]]),linestyle='--')\n",
    "    \n",
    "    ax.plot3D(np.concatenate([x_track[-1:, 0],x_track[-1:, 0]]), \n",
    "              np.concatenate([x_track[-1:, 1],np.zeros(1)+num]),\n",
    "              np.concatenate([x_track[-1:, 2],x_track[-1:, 2]]),linestyle='--')\n",
    "    ax.scatter(x_track[-1:, 0], x_track[-1:, 1], x_track[-1:, 2], cmap='spectral', c='r', s=50)\n",
    "    ax.set_zlim(x_track[-1, 2]-20,x_track[-1, 2]+12)\n",
    "    ax.axis('off')\n",
    "    ax.grid(False)\n",
    "    display(fig, display_id='plot',update=True)\n",
    "    plt.pause(0.01)"
   ]
  }
 ],
 "metadata": {
  "kernelspec": {
   "display_name": "deeplearning",
   "language": "python",
   "name": "python3"
  },
  "language_info": {
   "name": "python",
   "version": "3.10.13"
  }
 },
 "nbformat": 4,
 "nbformat_minor": 2
}
