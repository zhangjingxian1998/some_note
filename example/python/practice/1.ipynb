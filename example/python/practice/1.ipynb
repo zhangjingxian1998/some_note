{
 "cells": [
  {
   "cell_type": "code",
   "execution_count": null,
   "metadata": {},
   "outputs": [],
   "source": [
    "# 题目：有四个数字：1、2、3、4，能组成多少个互不相同且无重复数字的三位数？各是多少？"
   ]
  },
  {
   "cell_type": "code",
   "execution_count": 1,
   "metadata": {},
   "outputs": [
    {
     "name": "stdout",
     "output_type": "stream",
     "text": [
      "24\n",
      "[123, 124, 132, 134, 142, 143, 213, 214, 231, 234, 241, 243, 312, 314, 321, 324, 341, 342, 412, 413, 421, 423, 431, 432]\n"
     ]
    }
   ],
   "source": [
    "lis = [1, 2, 3, 4]\n",
    "result = []\n",
    "for i in range(len(lis)):\n",
    "    for j in range(len(lis)):\n",
    "        if i==j:\n",
    "            continue\n",
    "        for k in range(len(lis)):\n",
    "            if i==k or j==k:\n",
    "                continue\n",
    "            number = int(str(lis[i]) + str(lis[j]) + str(lis[k]))\n",
    "            result.append(number)\n",
    "            pass\n",
    "print(len(result))\n",
    "print(result)"
   ]
  }
 ],
 "metadata": {
  "kernelspec": {
   "display_name": "deeplearning",
   "language": "python",
   "name": "python3"
  },
  "language_info": {
   "codemirror_mode": {
    "name": "ipython",
    "version": 3
   },
   "file_extension": ".py",
   "mimetype": "text/x-python",
   "name": "python",
   "nbconvert_exporter": "python",
   "pygments_lexer": "ipython3",
   "version": "3.8.18"
  },
  "orig_nbformat": 4,
  "vscode": {
   "interpreter": {
    "hash": "5ff24282874dbb66afe956d1c4d677131165dc81a404f1ffda84b48100e8b7bb"
   }
  }
 },
 "nbformat": 4,
 "nbformat_minor": 2
}
