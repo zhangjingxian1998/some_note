{
 "cells": [
  {
   "cell_type": "code",
   "execution_count": 6,
   "metadata": {},
   "outputs": [
    {
     "data": {
      "text/plain": [
       "[[1, 2, 1], [1, 1, 2], [2, 1, 1]]"
      ]
     },
     "execution_count": 6,
     "metadata": {},
     "output_type": "execute_result"
    }
   ],
   "source": [
    "def permute(nums):\n",
    "        res = []\n",
    "\n",
    "        def dfs(x):\n",
    "            if x == len(nums) - 1:\n",
    "                if nums in res:\n",
    "                    return\n",
    "                res.append(nums[:])\n",
    "            \n",
    "            for i in range(x, len(nums)):\n",
    "                nums[i], nums[x] = nums[x], nums[i]\n",
    "                dfs(x+1)\n",
    "                nums[i], nums[x] = nums[x], nums[i]\n",
    "    \n",
    "        dfs(0)\n",
    "\n",
    "        return res\n",
    "\n",
    "permute([1,2,1])"
   ]
  }
 ],
 "metadata": {
  "kernelspec": {
   "display_name": "Python 3",
   "language": "python",
   "name": "python3"
  },
  "language_info": {
   "codemirror_mode": {
    "name": "ipython",
    "version": 3
   },
   "file_extension": ".py",
   "mimetype": "text/x-python",
   "name": "python",
   "nbconvert_exporter": "python",
   "pygments_lexer": "ipython3",
   "version": "3.12.5"
  }
 },
 "nbformat": 4,
 "nbformat_minor": 2
}
