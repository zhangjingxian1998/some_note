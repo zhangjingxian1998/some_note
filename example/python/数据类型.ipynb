{
 "cells": [
  {
   "cell_type": "code",
   "execution_count": 6,
   "metadata": {},
   "outputs": [
    {
     "name": "stdout",
     "output_type": "stream",
     "text": [
      "hello python\n"
     ]
    }
   ],
   "source": [
    "print('hello python')\n",
    "# 数字, 布尔, 字符串, 列表, 元组, 字典, 集合"
   ]
  },
  {
   "cell_type": "code",
   "execution_count": 7,
   "metadata": {},
   "outputs": [
    {
     "name": "stdout",
     "output_type": "stream",
     "text": [
      "<class 'int'>\n",
      "<class 'float'> <class 'bool'>\n"
     ]
    }
   ],
   "source": [
    "# 数字类型\n",
    "int_0 = 1       # 整数\n",
    "float_0 = 1.      # 浮点数\n",
    "bool_0 = True    # 布尔值\n",
    "print(type(int_0))          # type() 获取变量类型 \n",
    "print(type(float_0), end=' ') # print会默认打印回车, 可通过end控制\n",
    "print(type(bool_0))"
   ]
  },
  {
   "cell_type": "code",
   "execution_count": 8,
   "metadata": {},
   "outputs": [
    {
     "name": "stdout",
     "output_type": "stream",
     "text": [
      "True\n",
      "True\n",
      "False\n",
      "False\n",
      "True\n"
     ]
    }
   ],
   "source": [
    "# 数字类型关系\n",
    "print(int_0 == float_0)   # == 只比较值\n",
    "print(int_0 == bool_0)   # 在python中, True就是1, False就是0\n",
    "print(int_0 is float_0)   # is 需要判断值的 id \n",
    "print(int_0 is bool_0)\n",
    "# 相同值的 id 相同\n",
    "tmp_0 = 5\n",
    "tmp_1 = 5\n",
    "print(tmp_0 is tmp_1)"
   ]
  },
  {
   "cell_type": "code",
   "execution_count": 9,
   "metadata": {},
   "outputs": [
    {
     "name": "stdout",
     "output_type": "stream",
     "text": [
      "----------------\n",
      "2.0 <class 'float'>\n",
      "0.0 <class 'float'>\n",
      "1.0 <class 'float'>\n",
      "1.0 <class 'float'>\n",
      "----------------\n",
      "2 <class 'int'>\n",
      "0 <class 'int'>\n",
      "1 <class 'int'>\n",
      "1.0 <class 'float'>\n",
      "----------------\n"
     ]
    }
   ],
   "source": [
    "# 数字之间运算\n",
    "print('----------------')\n",
    "print(int_0 + float_0, type(int_0 + float_0)) # 整型数和浮点数运算, 结果为浮点数\n",
    "print(int_0 - float_0, type(int_0 - float_0))\n",
    "print(int_0 * float_0, type(int_0 * float_0))\n",
    "print(int_0 / float_0, type(int_0 / float_0))\n",
    "print('----------------')\n",
    "print(int_0 + bool_0, type(int_0 + bool_0)) # 布尔值运算中充当整型\n",
    "print(int_0 - bool_0, type(int_0 - bool_0))\n",
    "print(int_0 * bool_0, type(int_0 * bool_0))\n",
    "print(int_0 / bool_0, type(int_0 / bool_0)) # 除法输出类型是浮点数\n",
    "print('----------------')"
   ]
  },
  {
   "cell_type": "code",
   "execution_count": 19,
   "metadata": {},
   "outputs": [
    {
     "name": "stdout",
     "output_type": "stream",
     "text": [
      "1\n",
      "5\n",
      "34\n",
      "one 1.54656 a day, keeps doctor away\n"
     ]
    }
   ],
   "source": [
    "# 字符串\n",
    "# 以下都是字符串, 妹有字符一说\n",
    "str_0 = 'a'\n",
    "str_1 = 'apple'\n",
    "str_2 = 'one apple a day, keeps doctor away' # 一天一苹果, 博士远离我\n",
    "print(len(str_0)) # len() 用于获取字符串的长度\n",
    "print(len(str_1))\n",
    "print(len(str_2))\n",
    "\n",
    "fruit = 'banana'\n",
    "str_3 = f'one {fruit} a day, keeps doctor away'\n",
    "print(str_3)"
   ]
  },
  {
   "cell_type": "code",
   "execution_count": 22,
   "metadata": {},
   "outputs": [
    {
     "name": "stdout",
     "output_type": "stream",
     "text": [
      "0\n",
      "0\n",
      "4\n"
     ]
    }
   ],
   "source": [
    "# 列表\n",
    "list_0 = [] # 空列表\n",
    "list_1 = list() # 空列表\n",
    "list_2 = [1, 1., True, '1'] # 列表中可以存放多种数据类型, 推荐存放相同的数据\n",
    "print(len(list_0)) # len() 可以获取列表长度\n",
    "print(len(list_1))\n",
    "print(len(list_2))"
   ]
  },
  {
   "cell_type": "code",
   "execution_count": 43,
   "metadata": {},
   "outputs": [
    {
     "name": "stdout",
     "output_type": "stream",
     "text": [
      "0\n",
      "9\n",
      "--------------------\n",
      "[0, 1, 2]\n",
      "[0]\n",
      "[7, 8]\n",
      "[7, 8, 9]\n",
      "-------------------\n",
      "[0, 1, 2, 3, 4, 5, 6, 7, 8, 9, 6]\n",
      "[0, 3, 1, 2, 3, 4, 5, 6, 7, 8, 9, 6]\n",
      "-------------------\n",
      "[0, 3, 1, 2, 3, 4, 5, 6, 7, 8, 9]\n",
      "[3, 1, 2, 3, 4, 5, 6, 7, 8, 9]\n",
      "0\n",
      "[3, 1, 2, 3, 4, 5, 7, 8, 9]\n"
     ]
    }
   ],
   "source": [
    "# 列表操作 ****重要****\n",
    "list_0 = [0, 1, 2, 3, 4, 5, 6, 7, 8, 9]\n",
    "list_1 = [10, 11, 12]\n",
    "# 增删改查\n",
    "# 查找  \n",
    "# 单个 按照排列位置, 从左到右, 从0开始加; 也可以从右向左, 从-1开始减\n",
    "print(list_0[0])\n",
    "print(list_0[-1])\n",
    "print('--------------------')\n",
    "# 切片 左闭右开\n",
    "print(list_0[0:3])\n",
    "print(list_0[0:1]) # 虽然也是取一个值, 但是保留列表的形状\n",
    "print(list_0[-3:-1])\n",
    "print(list_0[-3: ])\n",
    "print('-------------------')\n",
    "# 增\n",
    "list_0.append(6) # 在列表最后加\n",
    "print(list_0)\n",
    "list_0.insert(1,3) # 在某个索引位置 插入一个值\n",
    "print(list_0)\n",
    "print('-------------------')\n",
    "# 删\n",
    "list_0.pop() # 弹出列表的最后一位 \n",
    "print(list_0)\n",
    "list_value = list_0.pop(0) # 根据索引弹出, 值可被接收\n",
    "print(list_0)\n",
    "print(list_value)\n",
    "list_0.remove(6) # 找到这个值\n",
    "print(list_0)"
   ]
  }
 ],
 "metadata": {
  "kernelspec": {
   "display_name": "SGG",
   "language": "python",
   "name": "python3"
  },
  "language_info": {
   "codemirror_mode": {
    "name": "ipython",
    "version": 3
   },
   "file_extension": ".py",
   "mimetype": "text/x-python",
   "name": "python",
   "nbconvert_exporter": "python",
   "pygments_lexer": "ipython3",
   "version": "3.8.17"
  }
 },
 "nbformat": 4,
 "nbformat_minor": 2
}
