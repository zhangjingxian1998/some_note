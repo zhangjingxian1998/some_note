{
 "cells": [
  {
   "cell_type": "code",
   "execution_count": 44,
   "metadata": {},
   "outputs": [],
   "source": [
    "import torch\n",
    "import torch.nn as nn\n",
    "# float32 步长为512字节"
   ]
  },
  {
   "cell_type": "code",
   "execution_count": 53,
   "metadata": {},
   "outputs": [],
   "source": [
    "class Net(nn.Module):\n",
    "    def __init__(self):\n",
    "        super(Net, self).__init__()\n",
    "        self.linear = nn.Linear(1,100,bias=False)\n",
    "        self.linear2 = nn.Linear(100,99,bias=False)\n",
    "    def forward(self, x):\n",
    "        x = self.linear(x)\n",
    "        x = self.linear2(x)\n",
    "        return x\n",
    "        pass"
   ]
  },
  {
   "cell_type": "code",
   "execution_count": 54,
   "metadata": {},
   "outputs": [],
   "source": [
    "net = Net().to('cuda')"
   ]
  },
  {
   "cell_type": "code",
   "execution_count": 34,
   "metadata": {},
   "outputs": [
    {
     "data": {
      "text/plain": [
       "tensor([2.])"
      ]
     },
     "execution_count": 34,
     "metadata": {},
     "output_type": "execute_result"
    }
   ],
   "source": [
    "net.cpu()\n",
    "x.cpu()"
   ]
  },
  {
   "cell_type": "code",
   "execution_count": 51,
   "metadata": {},
   "outputs": [
    {
     "data": {
      "text/plain": [
       "40960"
      ]
     },
     "execution_count": 51,
     "metadata": {},
     "output_type": "execute_result"
    }
   ],
   "source": [
    "torch.cuda.max_memory_allocated()"
   ]
  },
  {
   "cell_type": "code",
   "execution_count": 66,
   "metadata": {},
   "outputs": [
    {
     "data": {
      "text/plain": [
       "81920"
      ]
     },
     "execution_count": 66,
     "metadata": {},
     "output_type": "execute_result"
    }
   ],
   "source": [
    "torch.cuda.memory_allocated()"
   ]
  },
  {
   "cell_type": "code",
   "execution_count": 65,
   "metadata": {},
   "outputs": [],
   "source": [
    "torch.cuda.empty_cache()"
   ]
  },
  {
   "cell_type": "code",
   "execution_count": 59,
   "metadata": {},
   "outputs": [],
   "source": [
    "x = torch.tensor([2.]).to('cuda')"
   ]
  },
  {
   "cell_type": "code",
   "execution_count": 61,
   "metadata": {},
   "outputs": [],
   "source": [
    "out = net(x)"
   ]
  },
  {
   "cell_type": "code",
   "execution_count": 63,
   "metadata": {},
   "outputs": [],
   "source": [
    "torch.sum(out).backward()"
   ]
  },
  {
   "cell_type": "code",
   "execution_count": 12,
   "metadata": {},
   "outputs": [
    {
     "data": {
      "text/plain": [
       "tensor([-1.1638,  0.3534,  0.7000,  0.8981, -1.0702, -0.0962, -0.6309,  0.5894,\n",
       "         0.7329,  0.3670, -0.1343, -1.0936,  0.9646,  0.4614,  0.1271, -0.5633,\n",
       "         0.0373, -0.1850, -0.6421, -0.0805,  1.0963, -0.6081,  0.1776,  1.5353,\n",
       "         0.3835, -0.7472, -0.3494, -0.0186,  0.3591, -0.0220, -1.4297, -0.0388,\n",
       "         0.9334, -0.5469, -0.7221, -0.4351, -0.4004,  1.1341,  0.0385, -0.9893,\n",
       "         0.7322, -0.4092, -0.3056,  0.4137, -1.1969, -0.0341,  0.7183,  0.0282,\n",
       "        -0.1258, -0.1384, -0.6135, -0.3894, -0.3485, -0.1739,  1.3443, -0.2495,\n",
       "        -0.6197, -0.3561,  0.0597,  0.0495, -0.1126, -0.0823, -0.6940, -0.1813,\n",
       "        -0.2763, -1.1869,  0.8529, -0.5197,  0.1736,  0.4907, -0.1570,  0.1283,\n",
       "        -0.8881, -0.7313,  1.3446,  0.7978,  0.6175,  0.4628,  0.5534,  0.6035,\n",
       "         0.1053,  0.6005,  0.4011, -0.2608, -0.9399,  0.0825,  0.0386,  0.2907,\n",
       "        -0.6752,  0.3424,  0.4161, -1.1603,  0.6843, -0.5447, -1.0045,  0.0573,\n",
       "        -0.8368,  0.0285, -0.1451, -0.3091], device='cuda:0',\n",
       "       grad_fn=<SqueezeBackward3>)"
      ]
     },
     "execution_count": 12,
     "metadata": {},
     "output_type": "execute_result"
    },
    {
     "ename": "",
     "evalue": "",
     "output_type": "error",
     "traceback": [
      "\u001b[1;31m在当前单元格或上一个单元格中执行代码时 Kernel 崩溃。\n",
      "\u001b[1;31m请查看单元格中的代码，以确定故障的可能原因。\n",
      "\u001b[1;31m单击<a href='https://aka.ms/vscodeJupyterKernelCrash'>此处</a>了解详细信息。\n",
      "\u001b[1;31m有关更多详细信息，请查看 Jupyter <a href='command:jupyter.viewOutput'>log</a>。"
     ]
    }
   ],
   "source": [
    "out"
   ]
  },
  {
   "cell_type": "code",
   "execution_count": 47,
   "metadata": {},
   "outputs": [],
   "source": [
    "# x = torch.rand(129).to('cuda')\n",
    "x = x.cpu()"
   ]
  }
 ],
 "metadata": {
  "kernelspec": {
   "display_name": "deeplearning",
   "language": "python",
   "name": "python3"
  },
  "language_info": {
   "codemirror_mode": {
    "name": "ipython",
    "version": 3
   },
   "file_extension": ".py",
   "mimetype": "text/x-python",
   "name": "python",
   "nbconvert_exporter": "python",
   "pygments_lexer": "ipython3",
   "version": "3.10.13"
  }
 },
 "nbformat": 4,
 "nbformat_minor": 2
}
