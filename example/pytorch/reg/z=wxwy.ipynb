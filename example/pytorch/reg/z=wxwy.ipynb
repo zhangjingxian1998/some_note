{
 "cells": [
  {
   "cell_type": "code",
   "execution_count": 39,
   "metadata": {},
   "outputs": [],
   "source": [
    "import numpy as np\n",
    "import torch\n",
    "import torch.nn as nn\n",
    "from torch.utils.data import Dataset, DataLoader\n",
    "from torch.optim.sgd import SGD\n",
    "from torch.nn.parameter import Parameter\n",
    "from IPython.display import display\n",
    "import matplotlib.pyplot as plt\n",
    "import tqdm"
   ]
  },
  {
   "cell_type": "code",
   "execution_count": 8,
   "metadata": {},
   "outputs": [],
   "source": [
    "# 定义数据集\n",
    "class my_dataset(Dataset):\n",
    "    def __init__(self):\n",
    "        super(my_dataset,self).__init__()\n",
    "        self.path = '../../data/z=wxwy.npy'\n",
    "        self.data = np.load(self.path)\n",
    "    def __getitem__(self, index):\n",
    "        return np.array(self.data[index],dtype=np.float32)\n",
    "    \n",
    "    def __len__(self):\n",
    "        return self.data.shape[0]"
   ]
  },
  {
   "cell_type": "code",
   "execution_count": 71,
   "metadata": {},
   "outputs": [],
   "source": [
    "# 定义模型\n",
    "class my_model(nn.Module):\n",
    "    def __init__(self,dim_hidden=1):\n",
    "        super(my_model,self).__init__()\n",
    "        self.linear1 = nn.Linear(2,dim_hidden,bias=False)\n",
    "        self.linear2 = nn.Linear(dim_hidden,dim_hidden,bias=False)\n",
    "        self.linear3 = nn.Linear(dim_hidden,1,bias=False)\n",
    "        self.relu = nn.ReLU(inplace=True)\n",
    "        self.gelu = nn.GELU()\n",
    "        self.sigmoid = nn.Sigmoid()\n",
    "        # self.bn0 = nn.BatchNorm1d(2)\n",
    "        self.bn1 = nn.BatchNorm1d(dim_hidden)\n",
    "        self.bn2 = nn.BatchNorm1d(dim_hidden)\n",
    "    def forward(self, x):\n",
    "        # x = self.bn0(x)\n",
    "        x = self.linear1(x)\n",
    "        x = self.bn1(x)\n",
    "        self.relu(x)\n",
    "        # x = self.gelu(x)\n",
    "        # x = self.sigmoid(x)\n",
    "        # x = self.linear2(x)\n",
    "        # x = self.bn2(x)\n",
    "        # self.relu(x)\n",
    "        # x = self.gelu(x)\n",
    "        # x = self.sigmoid(x)\n",
    "        x = self.linear3(x)\n",
    "        return x"
   ]
  },
  {
   "cell_type": "code",
   "execution_count": 65,
   "metadata": {},
   "outputs": [],
   "source": [
    "class Loss(nn.Module):\n",
    "    def __init__(self):\n",
    "        super(Loss, self).__init__()\n",
    "    \n",
    "    def forward(self, x, y):\n",
    "        distance = 1/2 * (y - x) ** 2\n",
    "        loss = torch.sum(distance)\n",
    "        loss_mean = loss / x.shape[0]\n",
    "        return loss_mean"
   ]
  },
  {
   "cell_type": "code",
   "execution_count": 110,
   "metadata": {},
   "outputs": [],
   "source": [
    "batch_size = 10000\n",
    "num_workers = 0\n",
    "lr = 0.005\n",
    "epochs = 10000"
   ]
  },
  {
   "cell_type": "code",
   "execution_count": 119,
   "metadata": {},
   "outputs": [],
   "source": [
    "my_data = my_dataset()\n",
    "my_dataloader = DataLoader(my_data,batch_size,num_workers=num_workers,drop_last=True,shuffle=True)\n",
    "model = my_model(50)\n",
    "# init_weight = torch.tensor([[0.5455, 0.0551]])\n",
    "# init_weight = torch.tensor([[0, -9.]])\n",
    "# model.linear.weight = Parameter(init_weight)\n",
    "loss_f = Loss()\n",
    "# 定义优化器\n",
    "optimizer = SGD(model.parameters(),lr=lr)"
   ]
  },
  {
   "cell_type": "code",
   "execution_count": 120,
   "metadata": {},
   "outputs": [
    {
     "name": "stderr",
     "output_type": "stream",
     "text": [
      "Processing 0.0894: 100%|██████████| 10000/10000 [01:17<00:00, 128.87it/s]\n"
     ]
    }
   ],
   "source": [
    "\n",
    "for data in my_dataloader :\n",
    "    data = data\n",
    "    pass\n",
    "pbar = tqdm.tqdm(range(epochs))\n",
    "for epoch in pbar:\n",
    "    output = model(data[:,:-1])\n",
    "    loss = loss_f(output, data[:,-1:])\n",
    "    optimizer.zero_grad()\n",
    "    loss.backward()\n",
    "    optimizer.step()\n",
    "    pbar.set_description(\"Processing %.4f\" % loss.item())\n",
    "    \n",
    "        # tqdm.tqdm.set_postfix(loss='{:.6f}'.format(loss.item()))#后缀设置一些想要的监控信息\n"
   ]
  }
 ],
 "metadata": {
  "kernelspec": {
   "display_name": "deeplearning",
   "language": "python",
   "name": "python3"
  },
  "language_info": {
   "codemirror_mode": {
    "name": "ipython",
    "version": 3
   },
   "file_extension": ".py",
   "mimetype": "text/x-python",
   "name": "python",
   "nbconvert_exporter": "python",
   "pygments_lexer": "ipython3",
   "version": "3.10.13"
  }
 },
 "nbformat": 4,
 "nbformat_minor": 2
}
