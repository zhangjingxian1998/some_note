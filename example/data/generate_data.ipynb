{
 "cells": [
  {
   "cell_type": "code",
   "execution_count": 1,
   "metadata": {},
   "outputs": [],
   "source": [
    "# %matplotlib notebook\n",
    "import numpy as np\n",
    "import matplotlib.pyplot as plt"
   ]
  },
  {
   "cell_type": "code",
   "execution_count": null,
   "metadata": {},
   "outputs": [],
   "source": [
    "# creat data 以拟合线性函数为例子\n",
    "#定义线性方程的斜率和截距\n",
    "m = 2\n",
    "b = 5\n",
    "#生成x和y数据\n",
    "x = np.linspace(0,10,100).astype(np.float32)\n",
    "y = m*x+b\n",
    "\n",
    "#加入高斯噪声\n",
    "mu, sigama = 0,1.5  #噪声的均值和标准差\n",
    "noise = np.random.normal(mu, sigama, len(y)) #生成随机噪声\n",
    "noisy_y = y + noise #将噪声加到y数据中\n",
    "plt.plot(x, y, color='red')\n",
    "plt.scatter(x, noisy_y)\n",
    "#组合x和y数据为一个二维数组\n",
    "true_data = np.column_stack((x,y))\n",
    "np.save('./linear_data/linear_true_data.npy',true_data.astype(np.float32))\n",
    "scatter_data = np.column_stack((x,noisy_y))\n",
    "np.save('./linear_data/linear_scatter_data.npy',scatter_data.astype(np.float32))\n",
    "np.random.shuffle(scatter_data) #打乱数据\n",
    "np.save('./linear_data/linear_shuffle_data.npy',scatter_data.astype(np.float32))"
   ]
  },
  {
   "cell_type": "code",
   "execution_count": 2,
   "metadata": {},
   "outputs": [],
   "source": [
    "# creat data 以拟合线性函数为例子\n",
    "#定义线性方程的斜率和截距\n",
    "w1 = 1\n",
    "w2 = 2\n",
    "#生成x和y数据\n",
    "x = np.linspace(0,10,100).astype(np.float32)\n",
    "y = np.linspace(0,10,100).astype(np.float32)\n",
    "z = np.matmul((w1 * x).reshape(100,1), (w2 * y).reshape(1,100))\n",
    "x_data = np.repeat(x,100)\n",
    "y_data = np.repeat(y.reshape(1,100),100,axis=0).flatten()\n",
    "z_data = z.flatten()\n",
    "#加入高斯噪声\n",
    "mu, sigama = 0,1.5  #噪声的均值和标准差\n",
    "noise = np.random.normal(mu, sigama, z.size).reshape(z.shape) #生成随机噪声\n",
    "noisy_z = z + noise #将噪声加到z\n",
    "\n",
    "true_data = np.stack((x_data,y_data,z_data),axis=1)\n",
    "np.save('z=wxwy.npy',true_data.astype(np.float32))\n",
    "# scatter_data = np.column_stack((x,noisy_y))\n",
    "# np.save('./linear_data/linear_scatter_data.npy',scatter_data.astype(np.float32))\n",
    "# np.random.shuffle(scatter_data) #打乱数据\n",
    "# np.save('./linear_data/linear_shuffle_data.npy',scatter_data.astype(np.float32))"
   ]
  },
  {
   "cell_type": "code",
   "execution_count": 3,
   "metadata": {},
   "outputs": [],
   "source": [
    "w1 = 1\n",
    "x = np.linspace(0,10,100).astype(np.float32)\n",
    "y = w1*x*x\n",
    "#加入高斯噪声\n",
    "mu, sigama = 0,1.5  #噪声的均值和标准差\n",
    "noise = np.random.normal(mu, sigama, y.size) #生成随机噪声\n",
    "noisy_y = y + noise #将噪声加到z\n",
    "\n",
    "true_data = np.stack((x,y),axis=1)\n",
    "np.save('z=wxx.npy',true_data.astype(np.float32))"
   ]
  }
 ],
 "metadata": {
  "kernelspec": {
   "display_name": "Python 3",
   "language": "python",
   "name": "python3"
  },
  "language_info": {
   "codemirror_mode": {
    "name": "ipython",
    "version": 3
   },
   "file_extension": ".py",
   "mimetype": "text/x-python",
   "name": "python",
   "nbconvert_exporter": "python",
   "pygments_lexer": "ipython3",
   "version": "3.12.5"
  },
  "orig_nbformat": 4
 },
 "nbformat": 4,
 "nbformat_minor": 2
}
