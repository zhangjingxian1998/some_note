{
 "cells": [
  {
   "cell_type": "code",
   "execution_count": 1,
   "metadata": {},
   "outputs": [],
   "source": [
    "# %matplotlib notebook\n",
    "import numpy as np\n",
    "import matplotlib.pyplot as plt"
   ]
  },
  {
   "cell_type": "code",
   "execution_count": null,
   "metadata": {},
   "outputs": [],
   "source": [
    "# creat data 以拟合线性函数为例子\n",
    "#定义线性方程的斜率和截距\n",
    "m = 2\n",
    "b = 5\n",
    "#生成x和y数据\n",
    "x = np.linspace(0,10,100).astype(np.float32)\n",
    "y = m*x+b\n",
    "\n",
    "#加入高斯噪声\n",
    "mu, sigama = 0,1.5  #噪声的均值和标准差\n",
    "noise = np.random.normal(mu, sigama, len(y)) #生成随机噪声\n",
    "noisy_y = y + noise #将噪声加到y数据中\n",
    "plt.plot(x, y, color='red')\n",
    "plt.scatter(x, noisy_y)\n",
    "#组合x和y数据为一个二维数组\n",
    "true_data = np.column_stack((x,y))\n",
    "np.save('./linear_data/linear_true_data.npy',true_data.astype(np.float32))\n",
    "scatter_data = np.column_stack((x,noisy_y))\n",
    "np.save('./linear_data/linear_scatter_data.npy',scatter_data.astype(np.float32))\n",
    "np.random.shuffle(scatter_data) #打乱数据\n",
    "np.save('./linear_data/linear_shuffle_data.npy',scatter_data.astype(np.float32))"
   ]
  }
 ],
 "metadata": {
  "kernelspec": {
   "display_name": "deeplearning",
   "language": "python",
   "name": "python3"
  },
  "language_info": {
   "codemirror_mode": {
    "name": "ipython",
    "version": 3
   },
   "file_extension": ".py",
   "mimetype": "text/x-python",
   "name": "python",
   "nbconvert_exporter": "python",
   "pygments_lexer": "ipython3",
   "version": "3.10.13"
  },
  "orig_nbformat": 4,
  "vscode": {
   "interpreter": {
    "hash": "5ff24282874dbb66afe956d1c4d677131165dc81a404f1ffda84b48100e8b7bb"
   }
  }
 },
 "nbformat": 4,
 "nbformat_minor": 2
}
